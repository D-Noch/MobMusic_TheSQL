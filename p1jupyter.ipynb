{
 "cells": [
  {
   "cell_type": "code",
   "execution_count": 1,
   "metadata": {},
   "outputs": [],
   "source": [
    "import re\n",
    "import pandas as pd\n",
    "import os\n",
    "import string as st"
   ]
  },
  {
   "cell_type": "code",
   "execution_count": 2,
   "metadata": {},
   "outputs": [],
   "source": [
    "list = pd.read_csv(\"lt.txt\", sep=\"\\t\")\n",
    "#misc = pd.read_csv(\"p.txt\", sep=\"\\t\")"
   ]
  },
  {
   "cell_type": "code",
   "execution_count": 3,
   "metadata": {},
   "outputs": [],
   "source": [
    "lt1 = list.replace(to_replace='\\[', value=\"(\", regex=True)\n",
    "lt1 = lt1.replace(to_replace='\\]', value=\")\", regex=True)\n",
    "lt1 = lt1.replace(to_replace='\\{', value=\"(\", regex=True)\n",
    "lt1 = lt1.replace(to_replace='\\}', value=\")\", regex=True)"
   ]
  },
  {
   "cell_type": "code",
   "execution_count": 4,
   "metadata": {},
   "outputs": [],
   "source": [
    "lt1['paren'] = lt1['ALBUM'].str.contains(\"(\", regex=False)\n",
    "lt1['trailpar'] = lt1['ALBUM'].str.endswith(\")\", na=False)"
   ]
  },
  {
   "cell_type": "code",
   "execution_count": null,
   "metadata": {},
   "outputs": [],
   "source": [
    "#lp = lt1[lt1['paren']==True]"
   ]
  },
  {
   "cell_type": "code",
   "execution_count": null,
   "metadata": {},
   "outputs": [],
   "source": [
    "#lout = lp['ALBUM'].str.extractall(r\"\\(([^)]+)\\)\").unstack()"
   ]
  },
  {
   "cell_type": "code",
   "execution_count": 5,
   "metadata": {},
   "outputs": [],
   "source": [
    "lt1['misc'] = lt1.ALBUM.str.findall(\"\\((.*?)\\)\").tolist()"
   ]
  },
  {
   "cell_type": "code",
   "execution_count": 6,
   "metadata": {},
   "outputs": [],
   "source": [
    "lt1['date1'] = lt1['ALBUM'].str.extract(r\"\\b(\\d\\d\\d\\d\\)|\\d\\d\\d\\d\\| \\d\\d\\d\\d\\|\\d\\d\\d\\d\\ |-\\d\\d\\d\\d\\|\\d\\d\\d\\d-\\d\\d\\d\\d|\\d\\d\\d\\d-\\d\\d|199x|200x)\", expand=True)"
   ]
  },
  {
   "cell_type": "code",
   "execution_count": 7,
   "metadata": {},
   "outputs": [],
   "source": [
    "lt1['nfo']= lt1['ALBUM'].str.extract(r\"\\b(EP|Bootleg|12''|12'' vinyl|12'' Vinyl|Vinyl|Tape Only|Tape Rip|OG TAPE RIP|TAPE RIP|Demo Tape|DEMO TAPE|demo tape|Maxi|Maxi Single|CDS|CDM|VLS|cassette|Promo|2CD|Single|320k|192k|128k|320 kbs|192 kbs|128 kbs|320Kbps|160 kbps|E.P. )\", expand=True)"
   ]
  },
  {
   "cell_type": "code",
   "execution_count": null,
   "metadata": {},
   "outputs": [],
   "source": [
    "#lt1['album']= lt1['ALBUM'].str.strip(r\"\\b(EP|Bootleg|12''|12'' vinyl|12'' Vinyl|Vinyl|Tape Only|Tape Rip|OG TAPE RIP|TAPE RIP|Demo Tape|DEMO TAPE|demo tape|Maxi|Maxi Single|CDS|CDM|VLS|cassette|Promo|2CD|Single|320k|192k|128k|320 kbs|192 kbs|128 kbs|320Kbps|160 kbps|E.P. )\")"
   ]
  },
  {
   "cell_type": "code",
   "execution_count": 9,
   "metadata": {},
   "outputs": [],
   "source": [
    "#lt1['album'] = lt1['ALBUM'].str.rstrip(r\"\\b(\\d\\d\\d\\d\\)|\\d\\d\\d\\d\\| \\d\\d\\d\\d\\|\\d\\d\\d\\d\\ |-\\d\\d\\d\\d\\|\\d\\d\\d\\d-\\d\\d\\d\\d|\\d\\d\\d\\d-\\d\\d|199x|200x)\")"
   ]
  },
  {
   "cell_type": "code",
   "execution_count": null,
   "metadata": {
    "scrolled": false
   },
   "outputs": [],
   "source": [
    "lt1"
   ]
  }
 ],
 "metadata": {
  "kernelspec": {
   "display_name": "Python 3",
   "language": "python",
   "name": "python3"
  },
  "language_info": {
   "codemirror_mode": {
    "name": "ipython",
    "version": 3
   },
   "file_extension": ".py",
   "mimetype": "text/x-python",
   "name": "python",
   "nbconvert_exporter": "python",
   "pygments_lexer": "ipython3",
   "version": "3.8.5"
  }
 },
 "nbformat": 4,
 "nbformat_minor": 4
}
